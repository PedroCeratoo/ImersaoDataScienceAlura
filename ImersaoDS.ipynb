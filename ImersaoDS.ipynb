{
 "cells": [
  {
   "cell_type": "code",
   "execution_count": 2,
   "metadata": {},
   "outputs": [],
   "source": [
    "import pandas as pd"
   ]
  },
  {
   "cell_type": "code",
   "execution_count": null,
   "metadata": {},
   "outputs": [],
   "source": [
    "df = pd.read_csv(\"https://raw.githubusercontent.com/guilhermeonrails/data-jobs/refs/heads/main/salaries.csv\")"
   ]
  },
  {
   "cell_type": "code",
   "execution_count": null,
   "metadata": {},
   "outputs": [
    {
     "data": {
      "text/html": [
       "<div>\n",
       "<style scoped>\n",
       "    .dataframe tbody tr th:only-of-type {\n",
       "        vertical-align: middle;\n",
       "    }\n",
       "\n",
       "    .dataframe tbody tr th {\n",
       "        vertical-align: top;\n",
       "    }\n",
       "\n",
       "    .dataframe thead th {\n",
       "        text-align: right;\n",
       "    }\n",
       "</style>\n",
       "<table border=\"1\" class=\"dataframe\">\n",
       "  <thead>\n",
       "    <tr style=\"text-align: right;\">\n",
       "      <th></th>\n",
       "      <th>work_year</th>\n",
       "      <th>experience_level</th>\n",
       "      <th>employment_type</th>\n",
       "      <th>job_title</th>\n",
       "      <th>salary</th>\n",
       "      <th>salary_currency</th>\n",
       "      <th>salary_in_usd</th>\n",
       "      <th>employee_residence</th>\n",
       "      <th>remote_ratio</th>\n",
       "      <th>company_location</th>\n",
       "      <th>company_size</th>\n",
       "    </tr>\n",
       "  </thead>\n",
       "  <tbody>\n",
       "    <tr>\n",
       "      <th>0</th>\n",
       "      <td>2025.0</td>\n",
       "      <td>SE</td>\n",
       "      <td>FT</td>\n",
       "      <td>Solutions Engineer</td>\n",
       "      <td>214000</td>\n",
       "      <td>USD</td>\n",
       "      <td>214000</td>\n",
       "      <td>US</td>\n",
       "      <td>100</td>\n",
       "      <td>US</td>\n",
       "      <td>M</td>\n",
       "    </tr>\n",
       "    <tr>\n",
       "      <th>1</th>\n",
       "      <td>2025.0</td>\n",
       "      <td>SE</td>\n",
       "      <td>FT</td>\n",
       "      <td>Solutions Engineer</td>\n",
       "      <td>136000</td>\n",
       "      <td>USD</td>\n",
       "      <td>136000</td>\n",
       "      <td>US</td>\n",
       "      <td>100</td>\n",
       "      <td>US</td>\n",
       "      <td>M</td>\n",
       "    </tr>\n",
       "    <tr>\n",
       "      <th>2</th>\n",
       "      <td>2025.0</td>\n",
       "      <td>MI</td>\n",
       "      <td>FT</td>\n",
       "      <td>Data Engineer</td>\n",
       "      <td>158800</td>\n",
       "      <td>USD</td>\n",
       "      <td>158800</td>\n",
       "      <td>AU</td>\n",
       "      <td>0</td>\n",
       "      <td>AU</td>\n",
       "      <td>M</td>\n",
       "    </tr>\n",
       "    <tr>\n",
       "      <th>3</th>\n",
       "      <td>2025.0</td>\n",
       "      <td>MI</td>\n",
       "      <td>FT</td>\n",
       "      <td>Data Engineer</td>\n",
       "      <td>139200</td>\n",
       "      <td>USD</td>\n",
       "      <td>139200</td>\n",
       "      <td>AU</td>\n",
       "      <td>0</td>\n",
       "      <td>AU</td>\n",
       "      <td>M</td>\n",
       "    </tr>\n",
       "    <tr>\n",
       "      <th>4</th>\n",
       "      <td>2025.0</td>\n",
       "      <td>EN</td>\n",
       "      <td>FT</td>\n",
       "      <td>Data Engineer</td>\n",
       "      <td>90000</td>\n",
       "      <td>USD</td>\n",
       "      <td>90000</td>\n",
       "      <td>US</td>\n",
       "      <td>0</td>\n",
       "      <td>US</td>\n",
       "      <td>M</td>\n",
       "    </tr>\n",
       "    <tr>\n",
       "      <th>5</th>\n",
       "      <td>2025.0</td>\n",
       "      <td>EN</td>\n",
       "      <td>FT</td>\n",
       "      <td>Data Engineer</td>\n",
       "      <td>80000</td>\n",
       "      <td>USD</td>\n",
       "      <td>80000</td>\n",
       "      <td>US</td>\n",
       "      <td>0</td>\n",
       "      <td>US</td>\n",
       "      <td>M</td>\n",
       "    </tr>\n",
       "    <tr>\n",
       "      <th>6</th>\n",
       "      <td>2025.0</td>\n",
       "      <td>SE</td>\n",
       "      <td>FT</td>\n",
       "      <td>Data Scientist</td>\n",
       "      <td>185000</td>\n",
       "      <td>USD</td>\n",
       "      <td>185000</td>\n",
       "      <td>US</td>\n",
       "      <td>0</td>\n",
       "      <td>US</td>\n",
       "      <td>M</td>\n",
       "    </tr>\n",
       "    <tr>\n",
       "      <th>7</th>\n",
       "      <td>2025.0</td>\n",
       "      <td>SE</td>\n",
       "      <td>FT</td>\n",
       "      <td>Data Scientist</td>\n",
       "      <td>148000</td>\n",
       "      <td>USD</td>\n",
       "      <td>148000</td>\n",
       "      <td>US</td>\n",
       "      <td>0</td>\n",
       "      <td>US</td>\n",
       "      <td>M</td>\n",
       "    </tr>\n",
       "    <tr>\n",
       "      <th>8</th>\n",
       "      <td>2025.0</td>\n",
       "      <td>MI</td>\n",
       "      <td>FT</td>\n",
       "      <td>Data Scientist</td>\n",
       "      <td>135000</td>\n",
       "      <td>USD</td>\n",
       "      <td>135000</td>\n",
       "      <td>CA</td>\n",
       "      <td>0</td>\n",
       "      <td>CA</td>\n",
       "      <td>M</td>\n",
       "    </tr>\n",
       "    <tr>\n",
       "      <th>9</th>\n",
       "      <td>2025.0</td>\n",
       "      <td>MI</td>\n",
       "      <td>FT</td>\n",
       "      <td>Data Scientist</td>\n",
       "      <td>108000</td>\n",
       "      <td>USD</td>\n",
       "      <td>108000</td>\n",
       "      <td>CA</td>\n",
       "      <td>0</td>\n",
       "      <td>CA</td>\n",
       "      <td>M</td>\n",
       "    </tr>\n",
       "  </tbody>\n",
       "</table>\n",
       "</div>"
      ],
      "text/plain": [
       "   work_year experience_level employment_type           job_title  salary  \\\n",
       "0     2025.0               SE              FT  Solutions Engineer  214000   \n",
       "1     2025.0               SE              FT  Solutions Engineer  136000   \n",
       "2     2025.0               MI              FT       Data Engineer  158800   \n",
       "3     2025.0               MI              FT       Data Engineer  139200   \n",
       "4     2025.0               EN              FT       Data Engineer   90000   \n",
       "5     2025.0               EN              FT       Data Engineer   80000   \n",
       "6     2025.0               SE              FT      Data Scientist  185000   \n",
       "7     2025.0               SE              FT      Data Scientist  148000   \n",
       "8     2025.0               MI              FT      Data Scientist  135000   \n",
       "9     2025.0               MI              FT      Data Scientist  108000   \n",
       "\n",
       "  salary_currency  salary_in_usd employee_residence  remote_ratio  \\\n",
       "0             USD         214000                 US           100   \n",
       "1             USD         136000                 US           100   \n",
       "2             USD         158800                 AU             0   \n",
       "3             USD         139200                 AU             0   \n",
       "4             USD          90000                 US             0   \n",
       "5             USD          80000                 US             0   \n",
       "6             USD         185000                 US             0   \n",
       "7             USD         148000                 US             0   \n",
       "8             USD         135000                 CA             0   \n",
       "9             USD         108000                 CA             0   \n",
       "\n",
       "  company_location company_size  \n",
       "0               US            M  \n",
       "1               US            M  \n",
       "2               AU            M  \n",
       "3               AU            M  \n",
       "4               US            M  \n",
       "5               US            M  \n",
       "6               US            M  \n",
       "7               US            M  \n",
       "8               CA            M  \n",
       "9               CA            M  "
      ]
     },
     "execution_count": 146,
     "metadata": {},
     "output_type": "execute_result"
    }
   ],
   "source": [
    "df.head(10)"
   ]
  },
  {
   "cell_type": "code",
   "execution_count": null,
   "metadata": {},
   "outputs": [
    {
     "name": "stdout",
     "output_type": "stream",
     "text": [
      "<class 'pandas.core.frame.DataFrame'>\n",
      "RangeIndex: 133349 entries, 0 to 133348\n",
      "Data columns (total 11 columns):\n",
      " #   Column              Non-Null Count   Dtype  \n",
      "---  ------              --------------   -----  \n",
      " 0   work_year           133339 non-null  float64\n",
      " 1   experience_level    133349 non-null  object \n",
      " 2   employment_type     133349 non-null  object \n",
      " 3   job_title           133349 non-null  object \n",
      " 4   salary              133349 non-null  int64  \n",
      " 5   salary_currency     133349 non-null  object \n",
      " 6   salary_in_usd       133349 non-null  int64  \n",
      " 7   employee_residence  133349 non-null  object \n",
      " 8   remote_ratio        133349 non-null  int64  \n",
      " 9   company_location    133349 non-null  object \n",
      " 10  company_size        133349 non-null  object \n",
      "dtypes: float64(1), int64(3), object(7)\n",
      "memory usage: 11.2+ MB\n"
     ]
    }
   ],
   "source": [
    "df.info()"
   ]
  },
  {
   "cell_type": "code",
   "execution_count": null,
   "metadata": {},
   "outputs": [
    {
     "data": {
      "text/html": [
       "<div>\n",
       "<style scoped>\n",
       "    .dataframe tbody tr th:only-of-type {\n",
       "        vertical-align: middle;\n",
       "    }\n",
       "\n",
       "    .dataframe tbody tr th {\n",
       "        vertical-align: top;\n",
       "    }\n",
       "\n",
       "    .dataframe thead th {\n",
       "        text-align: right;\n",
       "    }\n",
       "</style>\n",
       "<table border=\"1\" class=\"dataframe\">\n",
       "  <thead>\n",
       "    <tr style=\"text-align: right;\">\n",
       "      <th></th>\n",
       "      <th>work_year</th>\n",
       "      <th>salary</th>\n",
       "      <th>salary_in_usd</th>\n",
       "      <th>remote_ratio</th>\n",
       "    </tr>\n",
       "  </thead>\n",
       "  <tbody>\n",
       "    <tr>\n",
       "      <th>count</th>\n",
       "      <td>133339.000000</td>\n",
       "      <td>1.333490e+05</td>\n",
       "      <td>133349.000000</td>\n",
       "      <td>133349.000000</td>\n",
       "    </tr>\n",
       "    <tr>\n",
       "      <th>mean</th>\n",
       "      <td>2024.358770</td>\n",
       "      <td>1.632833e+05</td>\n",
       "      <td>157617.272098</td>\n",
       "      <td>20.905669</td>\n",
       "    </tr>\n",
       "    <tr>\n",
       "      <th>std</th>\n",
       "      <td>0.680627</td>\n",
       "      <td>2.173860e+05</td>\n",
       "      <td>74288.363097</td>\n",
       "      <td>40.590044</td>\n",
       "    </tr>\n",
       "    <tr>\n",
       "      <th>min</th>\n",
       "      <td>2020.000000</td>\n",
       "      <td>1.400000e+04</td>\n",
       "      <td>15000.000000</td>\n",
       "      <td>0.000000</td>\n",
       "    </tr>\n",
       "    <tr>\n",
       "      <th>25%</th>\n",
       "      <td>2024.000000</td>\n",
       "      <td>1.060200e+05</td>\n",
       "      <td>106000.000000</td>\n",
       "      <td>0.000000</td>\n",
       "    </tr>\n",
       "    <tr>\n",
       "      <th>50%</th>\n",
       "      <td>2024.000000</td>\n",
       "      <td>1.470000e+05</td>\n",
       "      <td>146206.000000</td>\n",
       "      <td>0.000000</td>\n",
       "    </tr>\n",
       "    <tr>\n",
       "      <th>75%</th>\n",
       "      <td>2025.000000</td>\n",
       "      <td>1.990000e+05</td>\n",
       "      <td>198000.000000</td>\n",
       "      <td>0.000000</td>\n",
       "    </tr>\n",
       "    <tr>\n",
       "      <th>max</th>\n",
       "      <td>2025.000000</td>\n",
       "      <td>3.040000e+07</td>\n",
       "      <td>800000.000000</td>\n",
       "      <td>100.000000</td>\n",
       "    </tr>\n",
       "  </tbody>\n",
       "</table>\n",
       "</div>"
      ],
      "text/plain": [
       "           work_year        salary  salary_in_usd   remote_ratio\n",
       "count  133339.000000  1.333490e+05  133349.000000  133349.000000\n",
       "mean     2024.358770  1.632833e+05  157617.272098      20.905669\n",
       "std         0.680627  2.173860e+05   74288.363097      40.590044\n",
       "min      2020.000000  1.400000e+04   15000.000000       0.000000\n",
       "25%      2024.000000  1.060200e+05  106000.000000       0.000000\n",
       "50%      2024.000000  1.470000e+05  146206.000000       0.000000\n",
       "75%      2025.000000  1.990000e+05  198000.000000       0.000000\n",
       "max      2025.000000  3.040000e+07  800000.000000     100.000000"
      ]
     },
     "execution_count": 148,
     "metadata": {},
     "output_type": "execute_result"
    }
   ],
   "source": [
    "df.describe()"
   ]
  },
  {
   "cell_type": "code",
   "execution_count": null,
   "metadata": {},
   "outputs": [
    {
     "data": {
      "text/plain": [
       "(133349, 11)"
      ]
     },
     "execution_count": 149,
     "metadata": {},
     "output_type": "execute_result"
    }
   ],
   "source": [
    "df.shape"
   ]
  },
  {
   "cell_type": "code",
   "execution_count": null,
   "metadata": {},
   "outputs": [
    {
     "name": "stdout",
     "output_type": "stream",
     "text": [
      "linhas: 133349\n",
      "colunas: 11\n"
     ]
    }
   ],
   "source": [
    "linhas, colunas = df.shape[0], df.shape[1]\n",
    "\n",
    "print(\"linhas:\", linhas)\n",
    "print(\"colunas:\", colunas)"
   ]
  },
  {
   "cell_type": "code",
   "execution_count": null,
   "metadata": {},
   "outputs": [
    {
     "data": {
      "text/plain": [
       "Index(['work_year', 'experience_level', 'employment_type', 'job_title',\n",
       "       'salary', 'salary_currency', 'salary_in_usd', 'employee_residence',\n",
       "       'remote_ratio', 'company_location', 'company_size'],\n",
       "      dtype='object')"
      ]
     },
     "execution_count": 151,
     "metadata": {},
     "output_type": "execute_result"
    }
   ],
   "source": [
    "df.columns"
   ]
  },
  {
   "cell_type": "code",
   "execution_count": null,
   "metadata": {},
   "outputs": [
    {
     "data": {
      "text/plain": [
       "Index(['ano', 'nivel_de_experiencia', 'tipo_de_contratacao', 'cargo',\n",
       "       'salario', 'moeda_do_salario', 'salario_em_usd',\n",
       "       'residencia_do_funcionario', 'remoto', 'localizacao_da_empresa',\n",
       "       'tamanho_da_empresa'],\n",
       "      dtype='object')"
      ]
     },
     "execution_count": 152,
     "metadata": {},
     "output_type": "execute_result"
    }
   ],
   "source": [
    "renomear_coluna = {\n",
    "    'work_year': 'ano',\n",
    "    'experience_level': 'nivel_de_experiencia',\n",
    "    'employment_type': 'tipo_de_contratacao',\n",
    "    'job_title': 'cargo',\n",
    "    'salary': 'salario',\n",
    "    'salary_currency': 'moeda_do_salario',\n",
    "    'salary_in_usd': 'salario_em_usd',\n",
    "    'employee_residence': 'residencia_do_funcionario',\n",
    "    'remote_ratio': 'remoto',\n",
    "    'company_location': 'localizacao_da_empresa',\n",
    "    'company_size': 'tamanho_da_empresa'\n",
    "}\n",
    "\n",
    "df.rename(columns=renomear_coluna, inplace=True)\n",
    "df.columns"
   ]
  },
  {
   "cell_type": "code",
   "execution_count": null,
   "metadata": {},
   "outputs": [
    {
     "data": {
      "text/plain": [
       "nivel_de_experiencia\n",
       "SE    77241\n",
       "MI    40465\n",
       "EN    12443\n",
       "EX     3200\n",
       "Name: count, dtype: int64"
      ]
     },
     "execution_count": 153,
     "metadata": {},
     "output_type": "execute_result"
    }
   ],
   "source": [
    "df['nivel_de_experiencia'].value_counts()"
   ]
  },
  {
   "cell_type": "code",
   "execution_count": null,
   "metadata": {},
   "outputs": [
    {
     "data": {
      "text/plain": [
       "tipo_de_contratacao\n",
       "FT    132563\n",
       "CT       394\n",
       "PT       376\n",
       "FL        16\n",
       "Name: count, dtype: int64"
      ]
     },
     "execution_count": 154,
     "metadata": {},
     "output_type": "execute_result"
    }
   ],
   "source": [
    "df['tipo_de_contratacao'].value_counts()"
   ]
  },
  {
   "cell_type": "code",
   "execution_count": null,
   "metadata": {},
   "outputs": [
    {
     "data": {
      "text/plain": [
       "remoto\n",
       "0      105312\n",
       "100     27718\n",
       "50        319\n",
       "Name: count, dtype: int64"
      ]
     },
     "execution_count": 155,
     "metadata": {},
     "output_type": "execute_result"
    }
   ],
   "source": [
    "df['remoto'].value_counts()"
   ]
  },
  {
   "cell_type": "code",
   "execution_count": null,
   "metadata": {},
   "outputs": [
    {
     "data": {
      "text/plain": [
       "tamanho_da_empresa\n",
       "M    129561\n",
       "L      3574\n",
       "S       214\n",
       "Name: count, dtype: int64"
      ]
     },
     "execution_count": 156,
     "metadata": {},
     "output_type": "execute_result"
    }
   ],
   "source": [
    "df['tamanho_da_empresa'].value_counts()"
   ]
  },
  {
   "cell_type": "code",
   "execution_count": null,
   "metadata": {},
   "outputs": [
    {
     "data": {
      "text/plain": [
       "nivel_de_experiencia\n",
       "Senior       77241\n",
       "Pleno        40465\n",
       "Junior       12443\n",
       "Executivo     3200\n",
       "Name: count, dtype: int64"
      ]
     },
     "execution_count": 157,
     "metadata": {},
     "output_type": "execute_result"
    }
   ],
   "source": [
    "senioridade = {\n",
    "    'SE': 'Senior',\n",
    "    'MI': 'Pleno',\n",
    "    'EN': 'Junior',\n",
    "    'EX': 'Executivo'\n",
    "}\n",
    "\n",
    "df['nivel_de_experiencia'] = df['nivel_de_experiencia'].replace(senioridade)\n",
    "\n",
    "df['nivel_de_experiencia'].value_counts()"
   ]
  },
  {
   "cell_type": "code",
   "execution_count": null,
   "metadata": {},
   "outputs": [
    {
     "data": {
      "text/plain": [
       "tipo_de_contratacao\n",
       "Integral        132563\n",
       "PJ                 394\n",
       "Meio-Periodo       376\n",
       "Free Lancer         16\n",
       "Name: count, dtype: int64"
      ]
     },
     "execution_count": 158,
     "metadata": {},
     "output_type": "execute_result"
    }
   ],
   "source": [
    "tipo_contrato = {\n",
    "    'FT': 'Integral',\n",
    "    'CT': 'PJ',\n",
    "    'PT': 'Meio-Periodo',\n",
    "    'FL': 'Free Lancer'\n",
    "}\n",
    "\n",
    "df['tipo_de_contratacao'] = df['tipo_de_contratacao'].replace(tipo_contrato)\n",
    "\n",
    "df['tipo_de_contratacao'].value_counts()"
   ]
  },
  {
   "cell_type": "code",
   "execution_count": null,
   "metadata": {},
   "outputs": [
    {
     "data": {
      "text/plain": [
       "tamanho_da_empresa\n",
       "Media      129561\n",
       "Grande       3574\n",
       "Pequena       214\n",
       "Name: count, dtype: int64"
      ]
     },
     "execution_count": 159,
     "metadata": {},
     "output_type": "execute_result"
    }
   ],
   "source": [
    "tamanho_empresa = {\n",
    "    'M': 'Media',\n",
    "    'L': 'Grande',\n",
    "    'S': 'Pequena'\n",
    "}\n",
    "\n",
    "df['tamanho_da_empresa'] = df['tamanho_da_empresa'].replace(tamanho_empresa)\n",
    "\n",
    "df['tamanho_da_empresa'].value_counts()\n"
   ]
  },
  {
   "cell_type": "code",
   "execution_count": null,
   "metadata": {},
   "outputs": [
    {
     "data": {
      "text/plain": [
       "remoto\n",
       "Presencial    105312\n",
       "Remoto         27718\n",
       "Hibrido          319\n",
       "Name: count, dtype: int64"
      ]
     },
     "execution_count": 160,
     "metadata": {},
     "output_type": "execute_result"
    }
   ],
   "source": [
    "modelo_trabalho = {\n",
    "    0 : 'Presencial',\n",
    "    100: 'Remoto',\n",
    "    50 : 'Hibrido'\n",
    "}\n",
    "\n",
    "df['remoto'] = df['remoto'].replace(modelo_trabalho)\n",
    "\n",
    "df['remoto'].value_counts()"
   ]
  },
  {
   "cell_type": "code",
   "execution_count": null,
   "metadata": {},
   "outputs": [
    {
     "data": {
      "text/html": [
       "<div>\n",
       "<style scoped>\n",
       "    .dataframe tbody tr th:only-of-type {\n",
       "        vertical-align: middle;\n",
       "    }\n",
       "\n",
       "    .dataframe tbody tr th {\n",
       "        vertical-align: top;\n",
       "    }\n",
       "\n",
       "    .dataframe thead th {\n",
       "        text-align: right;\n",
       "    }\n",
       "</style>\n",
       "<table border=\"1\" class=\"dataframe\">\n",
       "  <thead>\n",
       "    <tr style=\"text-align: right;\">\n",
       "      <th></th>\n",
       "      <th>ano</th>\n",
       "      <th>nivel_de_experiencia</th>\n",
       "      <th>tipo_de_contratacao</th>\n",
       "      <th>cargo</th>\n",
       "      <th>salario</th>\n",
       "      <th>moeda_do_salario</th>\n",
       "      <th>salario_em_usd</th>\n",
       "      <th>residencia_do_funcionario</th>\n",
       "      <th>remoto</th>\n",
       "      <th>localizacao_da_empresa</th>\n",
       "      <th>tamanho_da_empresa</th>\n",
       "    </tr>\n",
       "  </thead>\n",
       "  <tbody>\n",
       "    <tr>\n",
       "      <th>0</th>\n",
       "      <td>2025.0</td>\n",
       "      <td>Senior</td>\n",
       "      <td>Integral</td>\n",
       "      <td>Solutions Engineer</td>\n",
       "      <td>214000</td>\n",
       "      <td>USD</td>\n",
       "      <td>214000</td>\n",
       "      <td>US</td>\n",
       "      <td>Remoto</td>\n",
       "      <td>US</td>\n",
       "      <td>Media</td>\n",
       "    </tr>\n",
       "    <tr>\n",
       "      <th>1</th>\n",
       "      <td>2025.0</td>\n",
       "      <td>Senior</td>\n",
       "      <td>Integral</td>\n",
       "      <td>Solutions Engineer</td>\n",
       "      <td>136000</td>\n",
       "      <td>USD</td>\n",
       "      <td>136000</td>\n",
       "      <td>US</td>\n",
       "      <td>Remoto</td>\n",
       "      <td>US</td>\n",
       "      <td>Media</td>\n",
       "    </tr>\n",
       "    <tr>\n",
       "      <th>2</th>\n",
       "      <td>2025.0</td>\n",
       "      <td>Pleno</td>\n",
       "      <td>Integral</td>\n",
       "      <td>Data Engineer</td>\n",
       "      <td>158800</td>\n",
       "      <td>USD</td>\n",
       "      <td>158800</td>\n",
       "      <td>AU</td>\n",
       "      <td>Presencial</td>\n",
       "      <td>AU</td>\n",
       "      <td>Media</td>\n",
       "    </tr>\n",
       "    <tr>\n",
       "      <th>3</th>\n",
       "      <td>2025.0</td>\n",
       "      <td>Pleno</td>\n",
       "      <td>Integral</td>\n",
       "      <td>Data Engineer</td>\n",
       "      <td>139200</td>\n",
       "      <td>USD</td>\n",
       "      <td>139200</td>\n",
       "      <td>AU</td>\n",
       "      <td>Presencial</td>\n",
       "      <td>AU</td>\n",
       "      <td>Media</td>\n",
       "    </tr>\n",
       "    <tr>\n",
       "      <th>4</th>\n",
       "      <td>2025.0</td>\n",
       "      <td>Junior</td>\n",
       "      <td>Integral</td>\n",
       "      <td>Data Engineer</td>\n",
       "      <td>90000</td>\n",
       "      <td>USD</td>\n",
       "      <td>90000</td>\n",
       "      <td>US</td>\n",
       "      <td>Presencial</td>\n",
       "      <td>US</td>\n",
       "      <td>Media</td>\n",
       "    </tr>\n",
       "  </tbody>\n",
       "</table>\n",
       "</div>"
      ],
      "text/plain": [
       "      ano nivel_de_experiencia tipo_de_contratacao               cargo  \\\n",
       "0  2025.0               Senior            Integral  Solutions Engineer   \n",
       "1  2025.0               Senior            Integral  Solutions Engineer   \n",
       "2  2025.0                Pleno            Integral       Data Engineer   \n",
       "3  2025.0                Pleno            Integral       Data Engineer   \n",
       "4  2025.0               Junior            Integral       Data Engineer   \n",
       "\n",
       "   salario moeda_do_salario  salario_em_usd residencia_do_funcionario  \\\n",
       "0   214000              USD          214000                        US   \n",
       "1   136000              USD          136000                        US   \n",
       "2   158800              USD          158800                        AU   \n",
       "3   139200              USD          139200                        AU   \n",
       "4    90000              USD           90000                        US   \n",
       "\n",
       "       remoto localizacao_da_empresa tamanho_da_empresa  \n",
       "0      Remoto                     US              Media  \n",
       "1      Remoto                     US              Media  \n",
       "2  Presencial                     AU              Media  \n",
       "3  Presencial                     AU              Media  \n",
       "4  Presencial                     US              Media  "
      ]
     },
     "execution_count": 161,
     "metadata": {},
     "output_type": "execute_result"
    }
   ],
   "source": [
    "df.head()"
   ]
  },
  {
   "cell_type": "code",
   "execution_count": null,
   "metadata": {},
   "outputs": [
    {
     "data": {
      "text/html": [
       "<div>\n",
       "<style scoped>\n",
       "    .dataframe tbody tr th:only-of-type {\n",
       "        vertical-align: middle;\n",
       "    }\n",
       "\n",
       "    .dataframe tbody tr th {\n",
       "        vertical-align: top;\n",
       "    }\n",
       "\n",
       "    .dataframe thead th {\n",
       "        text-align: right;\n",
       "    }\n",
       "</style>\n",
       "<table border=\"1\" class=\"dataframe\">\n",
       "  <thead>\n",
       "    <tr style=\"text-align: right;\">\n",
       "      <th></th>\n",
       "      <th>nivel_de_experiencia</th>\n",
       "      <th>tipo_de_contratacao</th>\n",
       "      <th>cargo</th>\n",
       "      <th>moeda_do_salario</th>\n",
       "      <th>residencia_do_funcionario</th>\n",
       "      <th>remoto</th>\n",
       "      <th>localizacao_da_empresa</th>\n",
       "      <th>tamanho_da_empresa</th>\n",
       "    </tr>\n",
       "  </thead>\n",
       "  <tbody>\n",
       "    <tr>\n",
       "      <th>count</th>\n",
       "      <td>133349</td>\n",
       "      <td>133349</td>\n",
       "      <td>133349</td>\n",
       "      <td>133349</td>\n",
       "      <td>133349</td>\n",
       "      <td>133349</td>\n",
       "      <td>133349</td>\n",
       "      <td>133349</td>\n",
       "    </tr>\n",
       "    <tr>\n",
       "      <th>unique</th>\n",
       "      <td>4</td>\n",
       "      <td>4</td>\n",
       "      <td>390</td>\n",
       "      <td>26</td>\n",
       "      <td>102</td>\n",
       "      <td>3</td>\n",
       "      <td>95</td>\n",
       "      <td>3</td>\n",
       "    </tr>\n",
       "    <tr>\n",
       "      <th>top</th>\n",
       "      <td>Senior</td>\n",
       "      <td>Integral</td>\n",
       "      <td>Data Scientist</td>\n",
       "      <td>USD</td>\n",
       "      <td>US</td>\n",
       "      <td>Presencial</td>\n",
       "      <td>US</td>\n",
       "      <td>Media</td>\n",
       "    </tr>\n",
       "    <tr>\n",
       "      <th>freq</th>\n",
       "      <td>77241</td>\n",
       "      <td>132563</td>\n",
       "      <td>17314</td>\n",
       "      <td>126140</td>\n",
       "      <td>119579</td>\n",
       "      <td>105312</td>\n",
       "      <td>119641</td>\n",
       "      <td>129561</td>\n",
       "    </tr>\n",
       "  </tbody>\n",
       "</table>\n",
       "</div>"
      ],
      "text/plain": [
       "       nivel_de_experiencia tipo_de_contratacao           cargo  \\\n",
       "count                133349              133349          133349   \n",
       "unique                    4                   4             390   \n",
       "top                  Senior            Integral  Data Scientist   \n",
       "freq                  77241              132563           17314   \n",
       "\n",
       "       moeda_do_salario residencia_do_funcionario      remoto  \\\n",
       "count            133349                    133349      133349   \n",
       "unique               26                       102           3   \n",
       "top                 USD                        US  Presencial   \n",
       "freq             126140                    119579      105312   \n",
       "\n",
       "       localizacao_da_empresa tamanho_da_empresa  \n",
       "count                  133349             133349  \n",
       "unique                     95                  3  \n",
       "top                        US              Media  \n",
       "freq                   119641             129561  "
      ]
     },
     "execution_count": 162,
     "metadata": {},
     "output_type": "execute_result"
    }
   ],
   "source": [
    "df.describe(include=\"object\")"
   ]
  },
  {
   "cell_type": "code",
   "execution_count": null,
   "metadata": {},
   "outputs": [
    {
     "data": {
      "text/html": [
       "<div>\n",
       "<style scoped>\n",
       "    .dataframe tbody tr th:only-of-type {\n",
       "        vertical-align: middle;\n",
       "    }\n",
       "\n",
       "    .dataframe tbody tr th {\n",
       "        vertical-align: top;\n",
       "    }\n",
       "\n",
       "    .dataframe thead th {\n",
       "        text-align: right;\n",
       "    }\n",
       "</style>\n",
       "<table border=\"1\" class=\"dataframe\">\n",
       "  <thead>\n",
       "    <tr style=\"text-align: right;\">\n",
       "      <th></th>\n",
       "      <th>ano</th>\n",
       "      <th>salario</th>\n",
       "      <th>salario_em_usd</th>\n",
       "    </tr>\n",
       "  </thead>\n",
       "  <tbody>\n",
       "    <tr>\n",
       "      <th>count</th>\n",
       "      <td>133339.000000</td>\n",
       "      <td>1.333490e+05</td>\n",
       "      <td>133349.000000</td>\n",
       "    </tr>\n",
       "    <tr>\n",
       "      <th>mean</th>\n",
       "      <td>2024.358770</td>\n",
       "      <td>1.632833e+05</td>\n",
       "      <td>157617.272098</td>\n",
       "    </tr>\n",
       "    <tr>\n",
       "      <th>std</th>\n",
       "      <td>0.680627</td>\n",
       "      <td>2.173860e+05</td>\n",
       "      <td>74288.363097</td>\n",
       "    </tr>\n",
       "    <tr>\n",
       "      <th>min</th>\n",
       "      <td>2020.000000</td>\n",
       "      <td>1.400000e+04</td>\n",
       "      <td>15000.000000</td>\n",
       "    </tr>\n",
       "    <tr>\n",
       "      <th>25%</th>\n",
       "      <td>2024.000000</td>\n",
       "      <td>1.060200e+05</td>\n",
       "      <td>106000.000000</td>\n",
       "    </tr>\n",
       "    <tr>\n",
       "      <th>50%</th>\n",
       "      <td>2024.000000</td>\n",
       "      <td>1.470000e+05</td>\n",
       "      <td>146206.000000</td>\n",
       "    </tr>\n",
       "    <tr>\n",
       "      <th>75%</th>\n",
       "      <td>2025.000000</td>\n",
       "      <td>1.990000e+05</td>\n",
       "      <td>198000.000000</td>\n",
       "    </tr>\n",
       "    <tr>\n",
       "      <th>max</th>\n",
       "      <td>2025.000000</td>\n",
       "      <td>3.040000e+07</td>\n",
       "      <td>800000.000000</td>\n",
       "    </tr>\n",
       "  </tbody>\n",
       "</table>\n",
       "</div>"
      ],
      "text/plain": [
       "                 ano       salario  salario_em_usd\n",
       "count  133339.000000  1.333490e+05   133349.000000\n",
       "mean     2024.358770  1.632833e+05   157617.272098\n",
       "std         0.680627  2.173860e+05    74288.363097\n",
       "min      2020.000000  1.400000e+04    15000.000000\n",
       "25%      2024.000000  1.060200e+05   106000.000000\n",
       "50%      2024.000000  1.470000e+05   146206.000000\n",
       "75%      2025.000000  1.990000e+05   198000.000000\n",
       "max      2025.000000  3.040000e+07   800000.000000"
      ]
     },
     "execution_count": 163,
     "metadata": {},
     "output_type": "execute_result"
    }
   ],
   "source": [
    "df.describe()"
   ]
  },
  {
   "cell_type": "code",
   "execution_count": null,
   "metadata": {},
   "outputs": [],
   "source": [
    "#Aula 2 - Preparação e limpeza dos Dados"
   ]
  },
  {
   "cell_type": "code",
   "execution_count": null,
   "metadata": {},
   "outputs": [
    {
     "ename": "NameError",
     "evalue": "name 'df' is not defined",
     "output_type": "error",
     "traceback": [
      "\u001b[31m---------------------------------------------------------------------------\u001b[39m",
      "\u001b[31mNameError\u001b[39m                                 Traceback (most recent call last)",
      "\u001b[36mCell\u001b[39m\u001b[36m \u001b[39m\u001b[32mIn[9]\u001b[39m\u001b[32m, line 1\u001b[39m\n\u001b[32m----> \u001b[39m\u001b[32m1\u001b[39m \u001b[43mdf\u001b[49m.isnull()\n",
      "\u001b[31mNameError\u001b[39m: name 'df' is not defined"
     ]
    }
   ],
   "source": [
    "df.isnull()"
   ]
  },
  {
   "cell_type": "code",
   "execution_count": null,
   "metadata": {},
   "outputs": [],
   "source": []
  }
 ],
 "metadata": {
  "kernelspec": {
   "display_name": "Python 3",
   "language": "python",
   "name": "python3"
  },
  "language_info": {
   "codemirror_mode": {
    "name": "ipython",
    "version": 3
   },
   "file_extension": ".py",
   "mimetype": "text/x-python",
   "name": "python",
   "nbconvert_exporter": "python",
   "pygments_lexer": "ipython3",
   "version": "3.13.6"
  }
 },
 "nbformat": 4,
 "nbformat_minor": 2
}
